{
 "cells": [
  {
   "cell_type": "markdown",
   "metadata": {},
   "source": [
    "### 시계열 검정을 위한 함수 노트북 \n",
    "\n",
    "- 만든 함수를 편하게 쓰기 위해서 한 노트북에 다 저장해놓고 %run ~.ipynb를 통해 함수를 한번에 불러온다.\n",
    "- 노트북 작성의 목적은 jupyter lab을 벗어나지 않은채 시계열 분석 및 신경망 학습을 할 수 있도록 데이터를 불러오거나 분석을 위한 함수들을 모아놓기이다.\n",
    "- 실제 주가를 분석하고 예측이 주목적이므로 통계적 개념은 최대한 간략하게 적도록 한다,\n",
    "\n",
    "\n",
    "### 함수 목차 \n",
    "####    1. 상장된 회사명을 입력하면 코드를 반환해주는 함수\n",
    "####    2. 시계열 안정성 검정 함수 \n"
   ]
  },
  {
   "cell_type": "code",
   "execution_count": 27,
   "metadata": {},
   "outputs": [],
   "source": [
    "import pandas as pd \n",
    "import numpy as np\n",
    "import talib as ta\n",
    "import matplotlib.pyplot as plt\n",
    "import seaborn as sns\n",
    "import pandas_datareader.data as pdd\n",
    "from datetime import datetime\n",
    "import FinanceDataReader as fdr\n",
    "import datetime\n",
    "from statsmodels.tsa.stattools import adfuller,pacf, acf\n",
    "from statsmodels.tsa.arima_model import ARIMA\n",
    "from statsmodels.graphics.tsaplots import plot_acf, plot_pacf\n",
    "from arch.unitroot import PhillipsPerron  #pip install arch"
   ]
  },
  {
   "cell_type": "markdown",
   "metadata": {},
   "source": [
    "### 1. 상장된 회사명을 입력하면 코드를 반환해주는 함수 "
   ]
  },
  {
   "cell_type": "code",
   "execution_count": 20,
   "metadata": {},
   "outputs": [],
   "source": [
    "code_list = fdr.StockListing('KRX') # 한국거래소에 상장된 기업 정보 \n",
    "\n",
    "\n",
    "def get_code(name) :\n",
    "    code = code_list[code_list['Name'] == name].values[0][0]\n",
    "    print(name,\":\", code)\n",
    "    return code"
   ]
  },
  {
   "cell_type": "markdown",
   "metadata": {},
   "source": [
    "### 2. 시계열 안정성 검정 함수 "
   ]
  },
  {
   "cell_type": "markdown",
   "metadata": {},
   "source": [
    "- 시계열 안정성을 검정하기 위한 함수이다. \n",
    "- 시계열 안정성을 검정하기 위해서 ADF(확장된 Dickey Fuller) test와 PP(phillips Peron) test 를 실행한다.\n",
    "- AR모형 확률과정에서 고유값의 길이가 1이상일 경우 과거의 영향이 발산하는 형태이므로 불안정한 시계열이 된다.\n",
    "- 고유값의 길이가 1일때 단위근이라 하는데 단위근이 1인지 통계적 검정을 통해 시계열의 안정성을 검정한다.(이를 DF test라 한다.)\n",
    "- DF test의 문제점은 시계열에 단위근이 존재할 경우 잔차항의 iid 가정이 파괴된다는 점이다.\n",
    "- 이를 보완하기 위해 모형에 차분된 시계열의 과거항을 포함시키는 방식으로 검정을 하는 방법이 확장된 DF test이다. (ADF test)\n",
    "- pp test란 오차항의 자기 상관이나 이분산이 존재할 떄 사용하는 비모수적 검정 방법이다. "
   ]
  },
  {
   "cell_type": "code",
   "execution_count": 26,
   "metadata": {},
   "outputs": [],
   "source": [
    "def test_stationarity(df, std_plot = True):  \n",
    "    MA5 = df.rolling(window = 5).mean() #5일 이동평균선\n",
    "    MA10 = df.rolling(window = 10).mean() # 10일 이동평균선\n",
    "    std10= df.rolling(window = 10).std() # 10일 이동분산선\n",
    "\n",
    "    plt.plot(df, color = 'blue', label = 'Original') #종가 그래프\n",
    "    plt.plot(MA10, color = 'red', label = 'Rolling Mean(10)')\n",
    "    if std_plot:\n",
    "        plt.plot(std10, color = 'black', label = 'Rolling std(5)')\n",
    "        \n",
    "    plt.legend(loc = 'best')\n",
    "    plt.title('Rolling Mean and Std Deviation')\n",
    "    \n",
    "    dftest = adfuller(df, autolag='AIC') # ADF test(단위근 검정)\n",
    "    dfoutput = pd.Series(dftest[0:4], index=['Test Statistic','p-value','#Lags Used','Number of Observations Used'])\n",
    "    \n",
    "    for key,value in dftest[4].items():\n",
    "        dfoutput['Critical Value (%s)'%key] = value\n",
    "    print('ADF Test result')\n",
    "    print (dfoutput)\n",
    "\n",
    "    print('=======================================')\n",
    "    pp = PhillipsPerron(df)\n",
    "    print(pp.summary().as_text())\n",
    "    \n",
    "    plot_acf(df)\n",
    "    plot_pacf(df)\n",
    "    plt.show(block = False)\n"
   ]
  },
  {
   "cell_type": "code",
   "execution_count": null,
   "metadata": {},
   "outputs": [],
   "source": []
  }
 ],
 "metadata": {
  "kernelspec": {
   "display_name": "Python 3",
   "language": "python",
   "name": "python3"
  },
  "language_info": {
   "codemirror_mode": {
    "name": "ipython",
    "version": 3
   },
   "file_extension": ".py",
   "mimetype": "text/x-python",
   "name": "python",
   "nbconvert_exporter": "python",
   "pygments_lexer": "ipython3",
   "version": "3.7.3"
  }
 },
 "nbformat": 4,
 "nbformat_minor": 4
}
